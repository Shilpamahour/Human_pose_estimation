{
 "cells": [
  {
   "cell_type": "code",
   "execution_count": 19,
   "id": "748ed483-346e-4522-b776-8cadee5f00c4",
   "metadata": {},
   "outputs": [],
   "source": [
    "import streamlit as st\n",
    "import numpy as np\n",
    "import cv2 as cv"
   ]
  },
  {
   "cell_type": "code",
   "execution_count": 20,
   "id": "1f9056ad-284a-49f0-80cd-3fc00cc02c4a",
   "metadata": {},
   "outputs": [],
   "source": [
    "from PIL import Image  ## used for open img"
   ]
  },
  {
   "cell_type": "code",
   "execution_count": 21,
   "id": "e13704d4-353e-4acd-92dc-d51fc1d5f09e",
   "metadata": {},
   "outputs": [],
   "source": [
    "DEMO_IMAGE='image.jpg'"
   ]
  },
  {
   "cell_type": "code",
   "execution_count": 22,
   "id": "d40e064a-b122-4ba3-9f6f-4abe6a10e841",
   "metadata": {},
   "outputs": [],
   "source": [
    "BODY_PARTS = { \"Nose\": 0, \"Neck\": 1, \"RShoulder\": 2, \"RElbow\": 3, \"RWrist\": 4,\n",
    "                   \"LShoulder\": 5, \"LElbow\": 6, \"LWrist\": 7, \"RHip\": 8, \"RKnee\": 9,\n",
    "                   \"RAnkle\": 10, \"LHip\": 11, \"LKnee\": 12, \"LAnkle\": 13, \"REye\": 14,\n",
    "                   \"LEye\": 15, \"REar\": 16, \"LEar\": 17, \"Background\": 18 }\n",
    "\n",
    "POSE_PAIRS = [ [\"Neck\", \"RShoulder\"], [\"Neck\", \"LShoulder\"], [\"RShoulder\", \"RElbow\"],\n",
    "                   [\"RElbow\", \"RWrist\"], [\"LShoulder\", \"LElbow\"], [\"LElbow\", \"LWrist\"],\n",
    "                   [\"Neck\", \"RHip\"], [\"RHip\", \"RKnee\"], [\"RKnee\", \"RAnkle\"], [\"Neck\", \"LHip\"],\n",
    "                   [\"LHip\", \"LKnee\"], [\"LKnee\", \"LAnkle\"], [\"Neck\", \"Nose\"], [\"Nose\", \"REye\"],\n",
    "                   [\"REye\", \"REar\"], [\"Nose\", \"LEye\"], [\"LEye\", \"LEar\"] ]"
   ]
  },
  {
   "cell_type": "code",
   "execution_count": 23,
   "id": "32023855-20f8-4d10-bbff-b3d7eee69b02",
   "metadata": {},
   "outputs": [],
   "source": [
    "inwidth=368\n",
    "inheight=368\n",
    "net=cv.dnn.readNetFromTensorflow(\"graph_opt.pb\") ## pretrained model using to pose detection"
   ]
  },
  {
   "cell_type": "code",
   "execution_count": 24,
   "id": "3527260d-7d82-4928-ba72-334fc6ff01cf",
   "metadata": {},
   "outputs": [
    {
     "name": "stderr",
     "output_type": "stream",
     "text": [
      "2025-01-10 14:25:44.695 Thread 'MainThread': missing ScriptRunContext! This warning can be ignored when running in bare mode.\n",
      "2025-01-10 14:25:44.695 Thread 'MainThread': missing ScriptRunContext! This warning can be ignored when running in bare mode.\n",
      "2025-01-10 14:25:44.697 Thread 'MainThread': missing ScriptRunContext! This warning can be ignored when running in bare mode.\n",
      "2025-01-10 14:25:44.701 Thread 'MainThread': missing ScriptRunContext! This warning can be ignored when running in bare mode.\n",
      "2025-01-10 14:25:44.704 Thread 'MainThread': missing ScriptRunContext! This warning can be ignored when running in bare mode.\n",
      "2025-01-10 14:25:44.707 Thread 'MainThread': missing ScriptRunContext! This warning can be ignored when running in bare mode.\n",
      "2025-01-10 14:25:44.707 Thread 'MainThread': missing ScriptRunContext! This warning can be ignored when running in bare mode.\n",
      "2025-01-10 14:25:44.709 Thread 'MainThread': missing ScriptRunContext! This warning can be ignored when running in bare mode.\n",
      "2025-01-10 14:25:44.709 Thread 'MainThread': missing ScriptRunContext! This warning can be ignored when running in bare mode.\n",
      "2025-01-10 14:25:44.812 Thread 'MainThread': missing ScriptRunContext! This warning can be ignored when running in bare mode.\n",
      "2025-01-10 14:25:44.812 Thread 'MainThread': missing ScriptRunContext! This warning can be ignored when running in bare mode.\n",
      "2025-01-10 14:25:44.812 Thread 'MainThread': missing ScriptRunContext! This warning can be ignored when running in bare mode.\n",
      "2025-01-10 14:25:44.812 Thread 'MainThread': missing ScriptRunContext! This warning can be ignored when running in bare mode.\n",
      "2025-01-10 14:25:44.812 The `use_column_width` parameter has been deprecated and will be removed in a future release. Please utilize the `use_container_width` parameter instead.\n",
      "2025-01-10 14:25:44.828 Thread 'MainThread': missing ScriptRunContext! This warning can be ignored when running in bare mode.\n",
      "2025-01-10 14:25:44.843 Thread 'MainThread': missing ScriptRunContext! This warning can be ignored when running in bare mode.\n",
      "2025-01-10 14:25:44.843 Thread 'MainThread': missing ScriptRunContext! This warning can be ignored when running in bare mode.\n",
      "2025-01-10 14:25:44.843 Thread 'MainThread': missing ScriptRunContext! This warning can be ignored when running in bare mode.\n",
      "2025-01-10 14:25:44.843 Thread 'MainThread': missing ScriptRunContext! This warning can be ignored when running in bare mode.\n",
      "2025-01-10 14:25:44.843 Thread 'MainThread': missing ScriptRunContext! This warning can be ignored when running in bare mode.\n",
      "2025-01-10 14:25:44.843 Thread 'MainThread': missing ScriptRunContext! This warning can be ignored when running in bare mode.\n",
      "2025-01-10 14:25:44.843 Thread 'MainThread': missing ScriptRunContext! This warning can be ignored when running in bare mode.\n",
      "2025-01-10 14:25:44.843 Thread 'MainThread': missing ScriptRunContext! This warning can be ignored when running in bare mode.\n",
      "2025-01-10 14:25:44.843 Thread 'MainThread': missing ScriptRunContext! This warning can be ignored when running in bare mode.\n",
      "2025-01-10 14:25:44.843 \n",
      "`st.cache` is deprecated and will be removed soon. Please use one of Streamlit's new\n",
      "caching commands, `st.cache_data` or `st.cache_resource`. More information\n",
      "[in our docs](https://docs.streamlit.io/develop/concepts/architecture/caching).\n",
      "\n",
      "**Note**: The behavior of `st.cache` was updated in Streamlit 1.36 to the new caching\n",
      "logic used by `st.cache_data` and `st.cache_resource`. This might lead to some problems\n",
      "or unexpected behavior in certain edge cases.\n",
      "\n",
      "2025-01-10 14:25:44.843 No runtime found, using MemoryCacheStorageManager\n"
     ]
    }
   ],
   "source": [
    "st.title(\"Human Pose Estimation opencv\")\n",
    "st.text('Make sure you have a clear image with all the parts clearly visible')\n",
    "\n",
    "img_file_buffer=st.file_uploader(\"upload an image, Make sure you have a clear image\",type=[\"jpg\",\"jpeg\",\"png\"])\n",
    "if img_file_buffer is not None:\n",
    "   image=np.array(Image.open(img_file_buffer))\n",
    "else:\n",
    "   demo_image=DEMO_IMAGE\n",
    "   image=np.array(Image.open(demo_image))\n",
    "st.subheader('Original Image')\n",
    "st.image(\n",
    "    image, caption =f\"Original Image\",use_column_width=True\n",
    ")\n",
    "thres=st.slider(\"Threshold for detecting the key points\",min_value=0,value=20,max_value=100,step=5)\n",
    "thres=thres/100\n",
    "\n",
    "@st.cache\n",
    "def pose_estimation(frame):\n",
    "    framewidth=frame.shape[1]\n",
    "    frameheight=frame.shape[0]\n",
    "    #  used to resize nd normalizing the img give clear version img\n",
    "    net.setInput(cv.dnn.blobFromImage(frame,1.0,(inwidth,inheight),(127.5,127.5,127.5),swapRB=True,crop=False))\n",
    "    \n",
    "    out = net.forward() # giving actual prediction\n",
    "    out=out[:,:19,:,:] # mobilenet output [1,57,-1,-1], we only need the firs 19 element\n",
    "    assert(len(BODY_PARTS) <= out.shape[1])\n",
    "\n",
    "    points = [] ## list\n",
    "    for i in range(len(BODY_PARTS)):\n",
    "        # Slice heatmap of corresponding body's part.\n",
    "        heatMap = out[0, i, :, :]\n",
    "\n",
    "        # Originally, we try to find all the local maximums. To simplify a sample\n",
    "        # we just find a global one. However only a single pose at the same time\n",
    "        # could be detected this way.\n",
    "        _, conf, _, point = cv.minMaxLoc(heatMap)\n",
    "        x = (framewidth * point[0]) / out.shape[3]\n",
    "        y = (frameheight * point[1]) / out.shape[2]\n",
    "\n",
    "        # Add a point if it's confidence is higher than threshold.\n",
    "        points.append((int(x), int(y)) if conf > thres else None)\n",
    "\n",
    "    for pair in POSE_PAIRS:\n",
    "        partFrom = pair[0]\n",
    "        partTo = pair[1]\n",
    "        assert(partFrom in BODY_PARTS)\n",
    "        assert(partTo in BODY_PARTS)\n",
    "\n",
    "        idFrom = BODY_PARTS[partFrom]\n",
    "        idTo = BODY_PARTS[partTo]\n",
    "\n",
    "        if points[idFrom] and points[idTo]:\n",
    "            cv.line(frame, points[idFrom], points[idTo], (0, 255, 0), 3)\n",
    "            cv.ellipse(frame, points[idFrom], (3, 3), 0, 0, 360, (0, 0, 255), cv.FILLED)\n",
    "            cv.ellipse(frame, points[idTo], (3, 3), 0, 0, 360, (0, 0, 255), cv.FILLED)\n",
    "\n",
    "    t, _ = net.getPerfProfile()\n",
    "    freq = cv.getTickFrequency() / 1000\n",
    "    cv.putText(frame, '%.2fms' % (t / freq), (10, 20), cv.FONT_HERSHEY_SIMPLEX, 0.5, (0, 0, 0))\n",
    "\n",
    "    return frame"
   ]
  },
  {
   "cell_type": "code",
   "execution_count": 25,
   "id": "19e05245-4a9d-4c48-a97c-68881eae916c",
   "metadata": {},
   "outputs": [
    {
     "name": "stderr",
     "output_type": "stream",
     "text": [
      "2025-01-10 14:25:57.794 No runtime found, using MemoryCacheStorageManager\n",
      "2025-01-10 14:25:57.816 Thread 'MainThread': missing ScriptRunContext! This warning can be ignored when running in bare mode.\n",
      "2025-01-10 14:25:57.816 Thread 'MainThread': missing ScriptRunContext! This warning can be ignored when running in bare mode.\n",
      "2025-01-10 14:25:57.816 Thread 'MainThread': missing ScriptRunContext! This warning can be ignored when running in bare mode.\n",
      "2025-01-10 14:25:58.063 Thread 'MainThread': missing ScriptRunContext! This warning can be ignored when running in bare mode.\n",
      "2025-01-10 14:25:58.063 Thread 'MainThread': missing ScriptRunContext! This warning can be ignored when running in bare mode.\n",
      "2025-01-10 14:25:58.063 Thread 'MainThread': missing ScriptRunContext! This warning can be ignored when running in bare mode.\n",
      "2025-01-10 14:25:58.063 Thread 'MainThread': missing ScriptRunContext! This warning can be ignored when running in bare mode.\n",
      "2025-01-10 14:25:58.063 Thread 'MainThread': missing ScriptRunContext! This warning can be ignored when running in bare mode.\n",
      "2025-01-10 14:25:58.063 Thread 'MainThread': missing ScriptRunContext! This warning can be ignored when running in bare mode.\n",
      "2025-01-10 14:25:58.063 The `use_column_width` parameter has been deprecated and will be removed in a future release. Please utilize the `use_container_width` parameter instead.\n",
      "2025-01-10 14:25:58.063 Thread 'MainThread': missing ScriptRunContext! This warning can be ignored when running in bare mode.\n",
      "2025-01-10 14:25:58.086 Thread 'MainThread': missing ScriptRunContext! This warning can be ignored when running in bare mode.\n",
      "2025-01-10 14:25:58.086 Thread 'MainThread': missing ScriptRunContext! This warning can be ignored when running in bare mode.\n",
      "2025-01-10 14:25:58.086 Thread 'MainThread': missing ScriptRunContext! This warning can be ignored when running in bare mode.\n",
      "2025-01-10 14:25:58.086 Thread 'MainThread': missing ScriptRunContext! This warning can be ignored when running in bare mode.\n"
     ]
    },
    {
     "data": {
      "text/plain": [
       "DeltaGenerator()"
      ]
     },
     "execution_count": 25,
     "metadata": {},
     "output_type": "execute_result"
    }
   ],
   "source": [
    "output=pose_estimation(image)\n",
    "st.subheader(\"Position Estimated\")\n",
    "st.image(\n",
    "    output,caption=f\"Position Estimated\",use_column_width=True)\n",
    "st.markdown('''\n",
    "             #\n",
    "             ''')"
   ]
  },
  {
   "cell_type": "code",
   "execution_count": null,
   "id": "88de4589-491c-4ac5-a57c-623cceb3bda4",
   "metadata": {},
   "outputs": [],
   "source": []
  }
 ],
 "metadata": {
  "kernelspec": {
   "display_name": "Python 3 (ipykernel)",
   "language": "python",
   "name": "python3"
  },
  "language_info": {
   "codemirror_mode": {
    "name": "ipython",
    "version": 3
   },
   "file_extension": ".py",
   "mimetype": "text/x-python",
   "name": "python",
   "nbconvert_exporter": "python",
   "pygments_lexer": "ipython3",
   "version": "3.12.8"
  }
 },
 "nbformat": 4,
 "nbformat_minor": 5
}
